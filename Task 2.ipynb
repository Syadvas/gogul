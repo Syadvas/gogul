{
 "cells": [
  {
   "cell_type": "code",
   "execution_count": 13,
   "metadata": {},
   "outputs": [],
   "source": [
    "import pandas as pd\n",
    "import numpy as np\n",
    "import json"
   ]
  },
  {
   "cell_type": "code",
   "execution_count": 4,
   "metadata": {},
   "outputs": [],
   "source": [
    "#reading Json file\n",
    "Product=pd.read_json('C:\\\\Users\\\\GOKUL\\\\Desktop\\\\Product.json', lines=True)"
   ]
  },
  {
   "cell_type": "code",
   "execution_count": 5,
   "metadata": {},
   "outputs": [
    {
     "data": {
      "text/html": [
       "<div>\n",
       "<style scoped>\n",
       "    .dataframe tbody tr th:only-of-type {\n",
       "        vertical-align: middle;\n",
       "    }\n",
       "\n",
       "    .dataframe tbody tr th {\n",
       "        vertical-align: top;\n",
       "    }\n",
       "\n",
       "    .dataframe thead th {\n",
       "        text-align: right;\n",
       "    }\n",
       "</style>\n",
       "<table border=\"1\" class=\"dataframe\">\n",
       "  <thead>\n",
       "    <tr style=\"text-align: right;\">\n",
       "      <th></th>\n",
       "      <th>productDescription</th>\n",
       "      <th>productTitle</th>\n",
       "      <th>ratings</th>\n",
       "      <th>AboutItem</th>\n",
       "      <th>productDetails</th>\n",
       "      <th>brand</th>\n",
       "      <th>price</th>\n",
       "      <th>similarProducts</th>\n",
       "      <th>product_info</th>\n",
       "      <th>url</th>\n",
       "      <th>catmap</th>\n",
       "      <th>moreAnswerLink</th>\n",
       "      <th>SeeAllReviews</th>\n",
       "    </tr>\n",
       "  </thead>\n",
       "  <tbody>\n",
       "    <tr>\n",
       "      <th>0</th>\n",
       "      <td>[Specifications: ,  , Materials：Washable, Non-...</td>\n",
       "      <td>[\\n\\n\\n\\n\\n\\n\\n\\nAstarX Kids Makeup Kit for Gi...</td>\n",
       "      <td>[4.5 out of 5 stars, 4.5 out of 5 stars]</td>\n",
       "      <td>[Make sure this fits, by entering your model n...</td>\n",
       "      <td>[]</td>\n",
       "      <td>[]</td>\n",
       "      <td>[$15.99]</td>\n",
       "      <td>[K- Beauty diel friends makeup Water Princess ...</td>\n",
       "      <td>[{'Package Dimensions': ['6.77 x 3.62 x 2.99 i...</td>\n",
       "      <td>https://www.amazon.com/gp/slredirect/picassoRe...</td>\n",
       "      <td>Makeup,Makeup Sets</td>\n",
       "      <td>None</td>\n",
       "      <td>https://www.amazon.com/AstarX-Washable-Cosmeti...</td>\n",
       "    </tr>\n",
       "    <tr>\n",
       "      <th>1</th>\n",
       "      <td>[Merry Go Round organic &amp; natural makeup in mu...</td>\n",
       "      <td>[\\n\\n\\n\\n\\n\\n\\n\\nPUNARA Organic &amp; Natural Make...</td>\n",
       "      <td>[]</td>\n",
       "      <td>[2 Pcs. of Moisturizing Color Lip gloss (Apple...</td>\n",
       "      <td>[Product details, Package Dimensions\\n\\n\\n\\n:,...</td>\n",
       "      <td>[]</td>\n",
       "      <td>[$129.00]</td>\n",
       "      <td>[]</td>\n",
       "      <td>[]</td>\n",
       "      <td>https://www.amazon.com/gp/slredirect/picassoRe...</td>\n",
       "      <td>Makeup,Makeup Sets</td>\n",
       "      <td>None</td>\n",
       "      <td>None</td>\n",
       "    </tr>\n",
       "    <tr>\n",
       "      <th>2</th>\n",
       "      <td>[\\n, The Mehron Story:, \\n, \\n            Mehr...</td>\n",
       "      <td>[\\n\\n\\n\\n\\n\\n\\n\\nMehron Makeup Resident Evil 2...</td>\n",
       "      <td>[4.3 out of 5 stars, 4.3 out of 5 stars]</td>\n",
       "      <td>[Make sure this fits, by entering your model n...</td>\n",
       "      <td>[]</td>\n",
       "      <td>[]</td>\n",
       "      <td>[$74.95]</td>\n",
       "      <td>[]</td>\n",
       "      <td>[{'Product Dimensions': ['3 x 10.95 x 6.45 inc...</td>\n",
       "      <td>https://www.amazon.com/gp/slredirect/picassoRe...</td>\n",
       "      <td>Makeup,Makeup Sets</td>\n",
       "      <td>None</td>\n",
       "      <td>https://www.amazon.com/Mehron-Makeup-Resident-...</td>\n",
       "    </tr>\n",
       "    <tr>\n",
       "      <th>3</th>\n",
       "      <td>[ ,  ,  , Specification:,  ,  Condition: 100% ...</td>\n",
       "      <td>[\\n\\n\\n\\n\\n\\n\\n\\nPractice Training Head Cosmet...</td>\n",
       "      <td>[1.0 out of 5 stars, 1.0 out of 5 stars]</td>\n",
       "      <td>[MULTIPURPOSE USAGE: Suitable for practicing e...</td>\n",
       "      <td>[Product details, Manufacturer\\n\\n\\n\\n:, Dioch...</td>\n",
       "      <td>[]</td>\n",
       "      <td>[$65.19]</td>\n",
       "      <td>[Lifelike Mannequin Head Silicone Training Man...</td>\n",
       "      <td>[]</td>\n",
       "      <td>https://www.amazon.com/Practice-Training-Cosme...</td>\n",
       "      <td>Makeup,Makeup Sets</td>\n",
       "      <td>None</td>\n",
       "      <td>None</td>\n",
       "    </tr>\n",
       "    <tr>\n",
       "      <th>4</th>\n",
       "      <td>[Over his 50-year career, Maurice Stein's Acad...</td>\n",
       "      <td>[\\n\\n\\n\\n\\n\\n\\n\\nCINEMA SECRETS Pro Cosmetics ...</td>\n",
       "      <td>[4.8 out of 5 stars, 4.8 out of 5 stars]</td>\n",
       "      <td>[]</td>\n",
       "      <td>[Product details, Is Discontinued By Manufactu...</td>\n",
       "      <td>[Brand, Cinema Secrets Pro Cosmetics]</td>\n",
       "      <td>[$10.00]</td>\n",
       "      <td>[]</td>\n",
       "      <td>[]</td>\n",
       "      <td>https://www.amazon.com/Cinema-Secrets-Stainles...</td>\n",
       "      <td>Makeup,Makeup Sets</td>\n",
       "      <td>None</td>\n",
       "      <td>https://www.amazon.com/Cinema-Secrets-Stainles...</td>\n",
       "    </tr>\n",
       "  </tbody>\n",
       "</table>\n",
       "</div>"
      ],
      "text/plain": [
       "                                  productDescription  \\\n",
       "0  [Specifications: ,  , Materials：Washable, Non-...   \n",
       "1  [Merry Go Round organic & natural makeup in mu...   \n",
       "2  [\\n, The Mehron Story:, \\n, \\n            Mehr...   \n",
       "3  [ ,  ,  , Specification:,  ,  Condition: 100% ...   \n",
       "4  [Over his 50-year career, Maurice Stein's Acad...   \n",
       "\n",
       "                                        productTitle  \\\n",
       "0  [\\n\\n\\n\\n\\n\\n\\n\\nAstarX Kids Makeup Kit for Gi...   \n",
       "1  [\\n\\n\\n\\n\\n\\n\\n\\nPUNARA Organic & Natural Make...   \n",
       "2  [\\n\\n\\n\\n\\n\\n\\n\\nMehron Makeup Resident Evil 2...   \n",
       "3  [\\n\\n\\n\\n\\n\\n\\n\\nPractice Training Head Cosmet...   \n",
       "4  [\\n\\n\\n\\n\\n\\n\\n\\nCINEMA SECRETS Pro Cosmetics ...   \n",
       "\n",
       "                                    ratings  \\\n",
       "0  [4.5 out of 5 stars, 4.5 out of 5 stars]   \n",
       "1                                        []   \n",
       "2  [4.3 out of 5 stars, 4.3 out of 5 stars]   \n",
       "3  [1.0 out of 5 stars, 1.0 out of 5 stars]   \n",
       "4  [4.8 out of 5 stars, 4.8 out of 5 stars]   \n",
       "\n",
       "                                           AboutItem  \\\n",
       "0  [Make sure this fits, by entering your model n...   \n",
       "1  [2 Pcs. of Moisturizing Color Lip gloss (Apple...   \n",
       "2  [Make sure this fits, by entering your model n...   \n",
       "3  [MULTIPURPOSE USAGE: Suitable for practicing e...   \n",
       "4                                                 []   \n",
       "\n",
       "                                      productDetails  \\\n",
       "0                                                 []   \n",
       "1  [Product details, Package Dimensions\\n\\n\\n\\n:,...   \n",
       "2                                                 []   \n",
       "3  [Product details, Manufacturer\\n\\n\\n\\n:, Dioch...   \n",
       "4  [Product details, Is Discontinued By Manufactu...   \n",
       "\n",
       "                                   brand      price  \\\n",
       "0                                     []   [$15.99]   \n",
       "1                                     []  [$129.00]   \n",
       "2                                     []   [$74.95]   \n",
       "3                                     []   [$65.19]   \n",
       "4  [Brand, Cinema Secrets Pro Cosmetics]   [$10.00]   \n",
       "\n",
       "                                     similarProducts  \\\n",
       "0  [K- Beauty diel friends makeup Water Princess ...   \n",
       "1                                                 []   \n",
       "2                                                 []   \n",
       "3  [Lifelike Mannequin Head Silicone Training Man...   \n",
       "4                                                 []   \n",
       "\n",
       "                                        product_info  \\\n",
       "0  [{'Package Dimensions': ['6.77 x 3.62 x 2.99 i...   \n",
       "1                                                 []   \n",
       "2  [{'Product Dimensions': ['3 x 10.95 x 6.45 inc...   \n",
       "3                                                 []   \n",
       "4                                                 []   \n",
       "\n",
       "                                                 url              catmap  \\\n",
       "0  https://www.amazon.com/gp/slredirect/picassoRe...  Makeup,Makeup Sets   \n",
       "1  https://www.amazon.com/gp/slredirect/picassoRe...  Makeup,Makeup Sets   \n",
       "2  https://www.amazon.com/gp/slredirect/picassoRe...  Makeup,Makeup Sets   \n",
       "3  https://www.amazon.com/Practice-Training-Cosme...  Makeup,Makeup Sets   \n",
       "4  https://www.amazon.com/Cinema-Secrets-Stainles...  Makeup,Makeup Sets   \n",
       "\n",
       "  moreAnswerLink                                      SeeAllReviews  \n",
       "0           None  https://www.amazon.com/AstarX-Washable-Cosmeti...  \n",
       "1           None                                               None  \n",
       "2           None  https://www.amazon.com/Mehron-Makeup-Resident-...  \n",
       "3           None                                               None  \n",
       "4           None  https://www.amazon.com/Cinema-Secrets-Stainles...  "
      ]
     },
     "execution_count": 5,
     "metadata": {},
     "output_type": "execute_result"
    }
   ],
   "source": [
    "Product.head()"
   ]
  },
  {
   "cell_type": "code",
   "execution_count": 6,
   "metadata": {},
   "outputs": [
    {
     "data": {
      "text/plain": [
       "Index(['productDescription', 'productTitle', 'ratings', 'AboutItem',\n",
       "       'productDetails', 'brand', 'price', 'similarProducts', 'product_info',\n",
       "       'url', 'catmap', 'moreAnswerLink', 'SeeAllReviews'],\n",
       "      dtype='object')"
      ]
     },
     "execution_count": 6,
     "metadata": {},
     "output_type": "execute_result"
    }
   ],
   "source": [
    "#Getting column names\n",
    "Product.columns"
   ]
  },
  {
   "cell_type": "code",
   "execution_count": 8,
   "metadata": {},
   "outputs": [
    {
     "data": {
      "text/html": [
       "<div>\n",
       "<style scoped>\n",
       "    .dataframe tbody tr th:only-of-type {\n",
       "        vertical-align: middle;\n",
       "    }\n",
       "\n",
       "    .dataframe tbody tr th {\n",
       "        vertical-align: top;\n",
       "    }\n",
       "\n",
       "    .dataframe thead th {\n",
       "        text-align: right;\n",
       "    }\n",
       "</style>\n",
       "<table border=\"1\" class=\"dataframe\">\n",
       "  <thead>\n",
       "    <tr style=\"text-align: right;\">\n",
       "      <th></th>\n",
       "      <th>productDetails</th>\n",
       "      <th>product_info</th>\n",
       "    </tr>\n",
       "  </thead>\n",
       "  <tbody>\n",
       "    <tr>\n",
       "      <th>0</th>\n",
       "      <td>[]</td>\n",
       "      <td>[{'Package Dimensions': ['6.77 x 3.62 x 2.99 i...</td>\n",
       "    </tr>\n",
       "    <tr>\n",
       "      <th>1</th>\n",
       "      <td>[Product details, Package Dimensions\\n\\n\\n\\n:,...</td>\n",
       "      <td>[]</td>\n",
       "    </tr>\n",
       "    <tr>\n",
       "      <th>2</th>\n",
       "      <td>[]</td>\n",
       "      <td>[{'Product Dimensions': ['3 x 10.95 x 6.45 inc...</td>\n",
       "    </tr>\n",
       "    <tr>\n",
       "      <th>3</th>\n",
       "      <td>[Product details, Manufacturer\\n\\n\\n\\n:, Dioch...</td>\n",
       "      <td>[]</td>\n",
       "    </tr>\n",
       "    <tr>\n",
       "      <th>4</th>\n",
       "      <td>[Product details, Is Discontinued By Manufactu...</td>\n",
       "      <td>[]</td>\n",
       "    </tr>\n",
       "  </tbody>\n",
       "</table>\n",
       "</div>"
      ],
      "text/plain": [
       "                                      productDetails  \\\n",
       "0                                                 []   \n",
       "1  [Product details, Package Dimensions\\n\\n\\n\\n:,...   \n",
       "2                                                 []   \n",
       "3  [Product details, Manufacturer\\n\\n\\n\\n:, Dioch...   \n",
       "4  [Product details, Is Discontinued By Manufactu...   \n",
       "\n",
       "                                        product_info  \n",
       "0  [{'Package Dimensions': ['6.77 x 3.62 x 2.99 i...  \n",
       "1                                                 []  \n",
       "2  [{'Product Dimensions': ['3 x 10.95 x 6.45 inc...  \n",
       "3                                                 []  \n",
       "4                                                 []  "
      ]
     },
     "execution_count": 8,
     "metadata": {},
     "output_type": "execute_result"
    }
   ],
   "source": [
    "#task 1(Answer 1)\n",
    "# Data Pre Processing\n",
    "# Deleting those columns which are not useful \n",
    "UselessColumns = ['productDescription', 'productTitle', 'ratings', 'AboutItem', 'brand', 'price', 'similarProducts', \n",
    "       'url', 'catmap', 'moreAnswerLink', 'SeeAllReviews']\n",
    "Product = Product.drop(UselessColumns,axis=1)\n",
    "Product.head()"
   ]
  },
  {
   "cell_type": "code",
   "execution_count": 9,
   "metadata": {},
   "outputs": [
    {
     "data": {
      "text/html": [
       "<div>\n",
       "<style scoped>\n",
       "    .dataframe tbody tr th:only-of-type {\n",
       "        vertical-align: middle;\n",
       "    }\n",
       "\n",
       "    .dataframe tbody tr th {\n",
       "        vertical-align: top;\n",
       "    }\n",
       "\n",
       "    .dataframe thead th {\n",
       "        text-align: right;\n",
       "    }\n",
       "</style>\n",
       "<table border=\"1\" class=\"dataframe\">\n",
       "  <thead>\n",
       "    <tr style=\"text-align: right;\">\n",
       "      <th></th>\n",
       "      <th>productDetails</th>\n",
       "      <th>product_info</th>\n",
       "    </tr>\n",
       "  </thead>\n",
       "  <tbody>\n",
       "    <tr>\n",
       "      <th>count</th>\n",
       "      <td>32125</td>\n",
       "      <td>32125</td>\n",
       "    </tr>\n",
       "    <tr>\n",
       "      <th>unique</th>\n",
       "      <td>24157</td>\n",
       "      <td>1175</td>\n",
       "    </tr>\n",
       "    <tr>\n",
       "      <th>top</th>\n",
       "      <td>[]</td>\n",
       "      <td>[]</td>\n",
       "    </tr>\n",
       "    <tr>\n",
       "      <th>freq</th>\n",
       "      <td>1520</td>\n",
       "      <td>30605</td>\n",
       "    </tr>\n",
       "  </tbody>\n",
       "</table>\n",
       "</div>"
      ],
      "text/plain": [
       "       productDetails product_info\n",
       "count           32125        32125\n",
       "unique          24157         1175\n",
       "top                []           []\n",
       "freq             1520        30605"
      ]
     },
     "execution_count": 9,
     "metadata": {},
     "output_type": "execute_result"
    }
   ],
   "source": [
    "Product.describe(include='all')"
   ]
  },
  {
   "cell_type": "code",
   "execution_count": 10,
   "metadata": {
    "scrolled": true
   },
   "outputs": [
    {
     "data": {
      "text/plain": [
       "productDetails    0\n",
       "product_info      0\n",
       "dtype: int64"
      ]
     },
     "execution_count": 10,
     "metadata": {},
     "output_type": "execute_result"
    }
   ],
   "source": [
    "Product.isnull().sum()"
   ]
  },
  {
   "cell_type": "code",
   "execution_count": 37,
   "metadata": {},
   "outputs": [
    {
     "data": {
      "text/plain": [
       "(0, 3)"
      ]
     },
     "execution_count": 37,
     "metadata": {},
     "output_type": "execute_result"
    }
   ],
   "source": [
    "X=Product[Product['productDetails'].values=='None']\n",
    "X.shape"
   ]
  },
  {
   "cell_type": "code",
   "execution_count": 18,
   "metadata": {
    "scrolled": true
   },
   "outputs": [
    {
     "name": "stdout",
     "output_type": "stream",
     "text": [
      "[list([])\n",
      " list(['Product details', 'Package Dimensions\\n\\n\\n\\n:', '9.84 x 7.09 x 6.69 inches; 2.07 Pounds', 'Manufacturer\\n\\n\\n\\n:', 'Colorcos Co.,Ltd.', 'ASIN\\n\\n\\n\\n:', 'B08S3GFG2J'])\n",
      " list([]) ...\n",
      " list(['Product details', 'Is Discontinued By Manufacturer\\n\\n\\n\\n:', 'No', 'Product Dimensions\\n\\n\\n\\n:', '0.59 x 1.57 x 3.15 inches; 4.94 Ounces', 'Item model number\\n\\n\\n\\n:', 'M-GS-2819', 'Department\\n\\n\\n\\n:', \"Women's\", 'UPC\\n\\n\\n\\n:', '885694002802', 'Manufacturer\\n\\n\\n\\n:', 'Versace', 'ASIN\\n\\n\\n\\n:', 'B00CAD8L42', 'Best Sellers Rank:', '#49,975 in Beauty & Personal Care (', 'See Top 100 in Beauty & Personal Care', ')', '#27 in', \"Men's Fragrance Sets\", 'Customer Reviews:', '/*\\n* Fix for UDP-1061. Average customer reviews has a small extra line on hover\\n* https://omni-grok.amazon.com/xref/src/appgroup/websiteTemplates/retail/SoftlinesDetailPageAssets/udp-intl-lock/src/legacy.css?indexName=WebsiteTemplates#40\\n*/\\n.noUnderline a:hover {\\ntext-decoration: none;\\n}', '4.5 out of 5 stars', '944 ratings', 'P.when(\\'A\\', \\'ready\\').execute(function(A) {\\nA.declarative(\\'acrLink-click-metrics\\', \\'click\\', { \"allowLinkDefault\" : true }, function(event){\\nif(window.ue) {\\nue.count(\"acrLinkClickCount\", (ue.count(\"acrLinkClickCount\") || 0) + 1);\\n}\\n});\\n});', 'P.when(\\'A\\', \\'cf\\').execute(function(A) {\\nA.declarative(\\'acrStarsLink-click-metrics\\', \\'click\\', { \"allowLinkDefault\" : true },  function(event){\\nif(window.ue) {\\nue.count(\"acrStarsLinkWithPopoverClickCount\", (ue.count(\"acrStarsLinkWithPopoverClickCount\") || 0) + 1);\\n}\\n});\\n});'])\n",
      " list(['Product details', 'Scent:', 'Variety Collection II', 'Is Discontinued By Manufacturer\\n\\n\\n\\n:', 'No', 'Product Dimensions\\n\\n\\n\\n:', '10 x 1.6 x 3 inches; 0.88 Ounces', 'Item model number\\n\\n\\n\\n:', 'VER79947', 'Department\\n\\n\\n\\n:', 'Womens', 'Manufacturer\\n\\n\\n\\n:', 'Euro Italia', 'ASIN\\n\\n\\n\\n:', 'B00G2J76Q4', 'Best Sellers Rank:', '#44,817 in Beauty & Personal Care (', 'See Top 100 in Beauty & Personal Care', ')', '#23 in', \"Men's Fragrance Sets\", 'Customer Reviews:', '/*\\n* Fix for UDP-1061. Average customer reviews has a small extra line on hover\\n* https://omni-grok.amazon.com/xref/src/appgroup/websiteTemplates/retail/SoftlinesDetailPageAssets/udp-intl-lock/src/legacy.css?indexName=WebsiteTemplates#40\\n*/\\n.noUnderline a:hover {\\ntext-decoration: none;\\n}', '4.4 out of 5 stars', '706 ratings', 'P.when(\\'A\\', \\'ready\\').execute(function(A) {\\nA.declarative(\\'acrLink-click-metrics\\', \\'click\\', { \"allowLinkDefault\" : true }, function(event){\\nif(window.ue) {\\nue.count(\"acrLinkClickCount\", (ue.count(\"acrLinkClickCount\") || 0) + 1);\\n}\\n});\\n});', 'P.when(\\'A\\', \\'cf\\').execute(function(A) {\\nA.declarative(\\'acrStarsLink-click-metrics\\', \\'click\\', { \"allowLinkDefault\" : true },  function(event){\\nif(window.ue) {\\nue.count(\"acrStarsLinkWithPopoverClickCount\", (ue.count(\"acrStarsLinkWithPopoverClickCount\") || 0) + 1);\\n}\\n});\\n});'])\n",
      " list(['Product details', 'Is Discontinued By Manufacturer\\n\\n\\n\\n:', 'No', 'Product Dimensions\\n\\n\\n\\n:', '7.32 x 1.26 x 4.33 inches; 0.1 Ounces', 'Item model number\\n\\n\\n\\n:', '104853', 'Department\\n\\n\\n\\n:', \"Men's\", 'UPC\\n\\n\\n\\n:', '018084854877 621227464699 885899621440 885820963502', 'Manufacturer\\n\\n\\n\\n:', 'Cuba', 'ASIN\\n\\n\\n\\n:', 'B0017LYVGU', 'Best Sellers Rank:', '#6,256 in Beauty & Personal Care (', 'See Top 100 in Beauty & Personal Care', ')', '#3 in', \"Men's Fragrance Sets\", 'Customer Reviews:', '/*\\n* Fix for UDP-1061. Average customer reviews has a small extra line on hover\\n* https://omni-grok.amazon.com/xref/src/appgroup/websiteTemplates/retail/SoftlinesDetailPageAssets/udp-intl-lock/src/legacy.css?indexName=WebsiteTemplates#40\\n*/\\n.noUnderline a:hover {\\ntext-decoration: none;\\n}', '4.2 out of 5 stars', '5,470 ratings', 'P.when(\\'A\\', \\'ready\\').execute(function(A) {\\nA.declarative(\\'acrLink-click-metrics\\', \\'click\\', { \"allowLinkDefault\" : true }, function(event){\\nif(window.ue) {\\nue.count(\"acrLinkClickCount\", (ue.count(\"acrLinkClickCount\") || 0) + 1);\\n}\\n});\\n});', 'P.when(\\'A\\', \\'cf\\').execute(function(A) {\\nA.declarative(\\'acrStarsLink-click-metrics\\', \\'click\\', { \"allowLinkDefault\" : true },  function(event){\\nif(window.ue) {\\nue.count(\"acrStarsLinkWithPopoverClickCount\", (ue.count(\"acrStarsLinkWithPopoverClickCount\") || 0) + 1);\\n}\\n});\\n});'])]\n"
     ]
    }
   ],
   "source": [
    "Y=Product['productDetails'].values\n",
    "print(Y)"
   ]
  },
  {
   "cell_type": "code",
   "execution_count": 49,
   "metadata": {
    "scrolled": true
   },
   "outputs": [
    {
     "data": {
      "text/plain": [
       "0        B08S3GFG2J\n",
       "1        B08S3GFG2J\n",
       "2        B08S3GFG2J\n",
       "3        B08S3GFG2J\n",
       "4        B08S3GFG2J\n",
       "            ...    \n",
       "32120    B08S3GFG2J\n",
       "32121    B08S3GFG2J\n",
       "32122    B08S3GFG2J\n",
       "32123    B08S3GFG2J\n",
       "32124    B08S3GFG2J\n",
       "Name: AS_IN, Length: 32125, dtype: object"
      ]
     },
     "execution_count": 49,
     "metadata": {},
     "output_type": "execute_result"
    }
   ],
   "source": [
    "#Creating a new variable( task 3)(Answer 3)\n",
    "Product[\"AS_IN\"]=Product['productDetails'][1][6]\n",
    "Product[\"AS_IN\"]"
   ]
  },
  {
   "cell_type": "code",
   "execution_count": 50,
   "metadata": {},
   "outputs": [
    {
     "data": {
      "text/html": [
       "<div>\n",
       "<style scoped>\n",
       "    .dataframe tbody tr th:only-of-type {\n",
       "        vertical-align: middle;\n",
       "    }\n",
       "\n",
       "    .dataframe tbody tr th {\n",
       "        vertical-align: top;\n",
       "    }\n",
       "\n",
       "    .dataframe thead th {\n",
       "        text-align: right;\n",
       "    }\n",
       "</style>\n",
       "<table border=\"1\" class=\"dataframe\">\n",
       "  <thead>\n",
       "    <tr style=\"text-align: right;\">\n",
       "      <th></th>\n",
       "      <th>productDetails</th>\n",
       "      <th>product_info</th>\n",
       "      <th>AS_IN</th>\n",
       "    </tr>\n",
       "  </thead>\n",
       "  <tbody>\n",
       "    <tr>\n",
       "      <th>0</th>\n",
       "      <td>[]</td>\n",
       "      <td>[{'Package Dimensions': ['6.77 x 3.62 x 2.99 i...</td>\n",
       "      <td>B08S3GFG2J</td>\n",
       "    </tr>\n",
       "    <tr>\n",
       "      <th>1</th>\n",
       "      <td>[Product details, Package Dimensions\\n\\n\\n\\n:,...</td>\n",
       "      <td>[]</td>\n",
       "      <td>B08S3GFG2J</td>\n",
       "    </tr>\n",
       "    <tr>\n",
       "      <th>2</th>\n",
       "      <td>[]</td>\n",
       "      <td>[{'Product Dimensions': ['3 x 10.95 x 6.45 inc...</td>\n",
       "      <td>B08S3GFG2J</td>\n",
       "    </tr>\n",
       "    <tr>\n",
       "      <th>3</th>\n",
       "      <td>[Product details, Manufacturer\\n\\n\\n\\n:, Dioch...</td>\n",
       "      <td>[]</td>\n",
       "      <td>B08S3GFG2J</td>\n",
       "    </tr>\n",
       "    <tr>\n",
       "      <th>4</th>\n",
       "      <td>[Product details, Is Discontinued By Manufactu...</td>\n",
       "      <td>[]</td>\n",
       "      <td>B08S3GFG2J</td>\n",
       "    </tr>\n",
       "  </tbody>\n",
       "</table>\n",
       "</div>"
      ],
      "text/plain": [
       "                                      productDetails  \\\n",
       "0                                                 []   \n",
       "1  [Product details, Package Dimensions\\n\\n\\n\\n:,...   \n",
       "2                                                 []   \n",
       "3  [Product details, Manufacturer\\n\\n\\n\\n:, Dioch...   \n",
       "4  [Product details, Is Discontinued By Manufactu...   \n",
       "\n",
       "                                        product_info       AS_IN  \n",
       "0  [{'Package Dimensions': ['6.77 x 3.62 x 2.99 i...  B08S3GFG2J  \n",
       "1                                                 []  B08S3GFG2J  \n",
       "2  [{'Product Dimensions': ['3 x 10.95 x 6.45 inc...  B08S3GFG2J  \n",
       "3                                                 []  B08S3GFG2J  \n",
       "4                                                 []  B08S3GFG2J  "
      ]
     },
     "execution_count": 50,
     "metadata": {},
     "output_type": "execute_result"
    }
   ],
   "source": [
    "Product.head()"
   ]
  },
  {
   "cell_type": "code",
   "execution_count": null,
   "metadata": {},
   "outputs": [],
   "source": [
    "#Completed the Question 1 & 3"
   ]
  }
 ],
 "metadata": {
  "kernelspec": {
   "display_name": "Python 3",
   "language": "python",
   "name": "python3"
  },
  "language_info": {
   "codemirror_mode": {
    "name": "ipython",
    "version": 3
   },
   "file_extension": ".py",
   "mimetype": "text/x-python",
   "name": "python",
   "nbconvert_exporter": "python",
   "pygments_lexer": "ipython3",
   "version": "3.8.5"
  }
 },
 "nbformat": 4,
 "nbformat_minor": 4
}
