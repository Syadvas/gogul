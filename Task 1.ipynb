{
 "cells": [
  {
   "cell_type": "code",
   "execution_count": 41,
   "metadata": {},
   "outputs": [],
   "source": [
    "Article=''' \"\\n\", \"The Mehron Story:\", \"\\n\", \"\\n            Mehron Makeup has been creating professional makeup for over 90 years. Our products are used on the runway, stage, and movie sets around the world. Mehron Makeup is proud to offer distinct professional products for each of our three major makeup segments: beauty, body art, and performance. Proudly made in the USA since 1927.\\n        \", \"\\n            This deluxe kit lets the every day gamer recreate the terrifying Raccoon City zombies from the popular Resident Evil 2 video game franchise! The kit contains all of the necessary professional special FX products used by leading Hollywood makeup artists. With the included step-by-step instructions and application tools, now virtually anyone can create their own truly professional Zombie look and bring a Resident Evil 2 character to life!\\n        \", \"\\n            Follow the included instructions to create your own Resident Evil 2 zombie look!\\n        \" '''"
   ]
  },
  {
   "cell_type": "code",
   "execution_count": 42,
   "metadata": {
    "scrolled": true
   },
   "outputs": [
    {
     "name": "stdout",
     "output_type": "stream",
     "text": [
      " \"\n",
      "\", \"The Mehron Story:\", \"\n",
      "\", \"\n",
      "            Mehron Makeup has been creating professional makeup for over 90 years. Our products are used on the runway, stage, and movie sets around the world. Mehron Makeup is proud to offer distinct professional products for each of our three major makeup segments: beauty, body art, and performance. Proudly made in the USA since 1927.\n",
      "        \", \"\n",
      "            This deluxe kit lets the every day gamer recreate the terrifying Raccoon City zombies from the popular Resident Evil 2 video game franchise! The kit contains all of the necessary professional special FX products used by leading Hollywood makeup artists. With the included step-by-step instructions and application tools, now virtually anyone can create their own truly professional Zombie look and bring a Resident Evil 2 character to life!\n",
      "        \", \"\n",
      "            Follow the included instructions to create your own Resident Evil 2 zombie look!\n",
      "        \" \n"
     ]
    }
   ],
   "source": [
    "print(Article)"
   ]
  },
  {
   "cell_type": "code",
   "execution_count": 43,
   "metadata": {},
   "outputs": [],
   "source": [
    "Y=['The Mehron Story:',\n",
    " 'Mehron Makeup has been creating professional makeup for over 90 years. Our products are used on the runway, stage, and movie sets around the world. Mehron Makeup is proud to offer distinct professional products for each of our three major makeup segments: beauty, body art, and performance. Proudly made in the USA since 1927.',\n",
    " 'This deluxe kit lets the every day gamer recreate the terrifying Raccoon City zombies from the popular Resident Evil 2 video game franchise! The kit contains all of the necessary professional special FX products used by leading Hollywood makeup artists. With the included step-by-step instructions and application tools, now virtually anyone can create their own truly professional Zombie look and bring a Resident Evil 2 character to life!',\n",
    " 'Follow the included instructions to create your own Resident Evil 2 zombie look!']"
   ]
  },
  {
   "cell_type": "code",
   "execution_count": 44,
   "metadata": {},
   "outputs": [
    {
     "name": "stdout",
     "output_type": "stream",
     "text": [
      "['The Mehron Story:', 'Mehron Makeup has been creating professional makeup for over 90 years. Our products are used on the runway, stage, and movie sets around the world. Mehron Makeup is proud to offer distinct professional products for each of our three major makeup segments: beauty, body art, and performance. Proudly made in the USA since 1927.', 'This deluxe kit lets the every day gamer recreate the terrifying Raccoon City zombies from the popular Resident Evil 2 video game franchise! The kit contains all of the necessary professional special FX products used by leading Hollywood makeup artists. With the included step-by-step instructions and application tools, now virtually anyone can create their own truly professional Zombie look and bring a Resident Evil 2 character to life!', 'Follow the included instructions to create your own Resident Evil 2 zombie look!']\n"
     ]
    }
   ],
   "source": [
    "print(Y)"
   ]
  },
  {
   "cell_type": "code",
   "execution_count": 46,
   "metadata": {},
   "outputs": [
    {
     "data": {
      "text/plain": [
       "' The Mehron Story: Mehron Makeup has been creating professional makeup for over 90 years. Our products are used on the runway stage and movie sets around the world. Mehron Makeup is proud to offer distinct professional products for each of our three major makeup segments: beauty body art and performance. Proudly made in the USA since 1927. This deluxe kit lets the every day gamer recreate the terrifying Raccoon City zombies from the popular Resident Evil 2 video game franchise! The kit contains all of the necessary professional special FX products used by leading Hollywood makeup artists. With the included step-by-step instructions and application tools now virtually anyone can create their own truly professional Zombie look and bring a Resident Evil 2 character to life! Follow the included instructions to create your own Resident Evil 2 zombie look! '"
      ]
     },
     "execution_count": 46,
     "metadata": {},
     "output_type": "execute_result"
    }
   ],
   "source": [
    "#repeat this step till expected result is acheived\n",
    "import re\n",
    "\n",
    "cleanedArticle = re.sub(r'[?|$|\\n|\" \",]',r' ',Article)\n",
    "\n",
    "cleanedArticle= re.sub(r' +', ' ', cleanedArticle)\n",
    "\n",
    "cleanedArticle"
   ]
  }
 ],
 "metadata": {
  "kernelspec": {
   "display_name": "Python 3",
   "language": "python",
   "name": "python3"
  },
  "language_info": {
   "codemirror_mode": {
    "name": "ipython",
    "version": 3
   },
   "file_extension": ".py",
   "mimetype": "text/x-python",
   "name": "python",
   "nbconvert_exporter": "python",
   "pygments_lexer": "ipython3",
   "version": "3.8.5"
  }
 },
 "nbformat": 4,
 "nbformat_minor": 4
}
